{
 "cells": [
  {
   "cell_type": "markdown",
   "metadata": {},
   "source": [
    "# import all the useful libraries"
   ]
  },
  {
   "cell_type": "code",
   "execution_count": 163,
   "metadata": {
    "collapsed": true
   },
   "outputs": [],
   "source": [
    "import pandas as pd\n",
    "import numpy as np\n",
    "import matplotlib.pyplot as plt\n",
    "import os\n",
    "from sklearn.model_selection import train_test_split\n",
    "from sklearn.preprocessing import StandardScaler\n",
    "import warnings\n",
    "# filter warnings\n",
    "warnings.filterwarnings('ignore')\n",
    "from pylab import mpl\n",
    "mpl.rcParams['font.sans-serif'] = ['SimHei']\n",
    "from matplotlib import rcParams\n",
    "rcParams['axes.unicode_minus']=False\n"
   ]
  },
  {
   "cell_type": "markdown",
   "metadata": {},
   "source": [
    "# Read the csv file into the dataframe and create train_test_split"
   ]
  },
  {
   "cell_type": "code",
   "execution_count": 164,
   "metadata": {},
   "outputs": [],
   "source": [
    "df = pd.read_csv(\"C:/Users/melvi/Desktop/Capstone/final_2_300_1_1.csv\",encoding = \"gbk\")\n",
    "df_price = df[\"Unit Price\"]\n",
    "\n",
    "del df[\"Unit Price\"]\n",
    "Y= df_price\n",
    "X= df\n",
    "from sklearn.cross_validation import train_test_split\n",
    "x_train,x_test,y_train,y_test = train_test_split(X,Y,test_size=0.1,random_state = 1)\n"
   ]
  },
  {
   "cell_type": "markdown",
   "metadata": {},
   "source": [
    "# Import all the regressor"
   ]
  },
  {
   "cell_type": "code",
   "execution_count": 165,
   "metadata": {
    "collapsed": true
   },
   "outputs": [],
   "source": [
    "from sklearn.linear_model import LinearRegression\n",
    "from sklearn.neighbors import KNeighborsRegressor\n",
    "from sklearn.linear_model import Lasso\n",
    "from sklearn.linear_model import Ridge\n",
    "from sklearn.neural_network import MLPRegressor\n",
    "from sklearn.tree import DecisionTreeRegressor\n",
    "from sklearn.tree import ExtraTreeRegressor\n",
    "from xgboost import XGBRegressor\n",
    "from sklearn.ensemble import RandomForestRegressor\n",
    "from sklearn.ensemble import AdaBoostRegressor\n",
    "from sklearn.ensemble import GradientBoostingRegressor\n",
    "from sklearn.ensemble import BaggingRegressor\n"
   ]
  },
  {
   "cell_type": "markdown",
   "metadata": {
    "collapsed": true
   },
   "source": [
    "# Fit the model using training set then obtain the score using testing set"
   ]
  },
  {
   "cell_type": "code",
   "execution_count": 166,
   "metadata": {
    "collapsed": true
   },
   "outputs": [],
   "source": [
    "models=[RandomForestRegressor(),LinearRegression(),KNeighborsRegressor(),Ridge(),Lasso(),MLPRegressor(alpha=20),DecisionTreeRegressor(),ExtraTreeRegressor(),XGBRegressor(),AdaBoostRegressor(),GradientBoostingRegressor(),BaggingRegressor()]\n",
    "models_str=['RandomForest','LinearRegression','KNNRegressor','Ridge','Lasso','MLPRegressor','DecisionTree','ExtraTree','XGBoost','AdaBoost','GradientBoost','Bagging']\n",
    "score_=[]"
   ]
  },
  {
   "cell_type": "code",
   "execution_count": 167,
   "metadata": {},
   "outputs": [
    {
     "name": "stdout",
     "output_type": "stream",
     "text": [
      "RandomForest Score:0.93801482951\n",
      "LinearRegression Score:0.770414901791\n",
      "KNNRegressor Score:0.780702909711\n",
      "Ridge Score:0.770395504881\n",
      "Lasso Score:0.770117813651\n",
      "MLPRegressor Score:0.700633091273\n",
      "DecisionTree Score:0.900873525385\n",
      "ExtraTree Score:0.868894881341\n",
      "[09:22:34] WARNING: C:/Jenkins/workspace/xgboost-win64_release_0.90/src/objective/regression_obj.cu:152: reg:linear is now deprecated in favor of reg:squarederror.\n",
      "XGBoost Score:0.769245511807\n",
      "AdaBoost Score:0.21727458386\n",
      "GradientBoost Score:0.770669574335\n",
      "Bagging Score:0.943278252129\n"
     ]
    }
   ],
   "source": [
    "for name,model in zip(models_str,models):\n",
    "    model=model\n",
    "    model.fit(x_train,y_train)\n",
    "    y_pred=model.predict(x_test)  \n",
    "    score=model.score(x_test,y_test)\n",
    "    score_.append(str(score)[:5])\n",
    "    print(name +' Score:'+str(score))"
   ]
  },
  {
   "cell_type": "markdown",
   "metadata": {},
   "source": [
    "# tuning the n_estimator of the randomforest regressor and plot the reult"
   ]
  },
  {
   "cell_type": "code",
   "execution_count": 134,
   "metadata": {},
   "outputs": [
    {
     "name": "stdout",
     "output_type": "stream",
     "text": [
      "20\n",
      "30\n",
      "40\n",
      "50\n",
      "60\n",
      "70\n",
      "80\n",
      "90\n",
      "100\n",
      "110\n",
      "120\n",
      "130\n",
      "140\n",
      "150\n",
      "160\n",
      "170\n",
      "180\n",
      "190\n",
      "200\n",
      "[0.93891030990643465, 0.940817413847718, 0.94428541255750931, 0.94335387866304976, 0.94324532168728614, 0.94554977877497637, 0.94472962382351389, 0.94357280468083393, 0.94351513697240463, 0.94458941862466228, 0.94559789092289259, 0.94461643152176233, 0.94511713831094402, 0.94374814496299175, 0.94519210031606304, 0.94540949389535744, 0.9454247405188525, 0.94567295860158163, 0.94525992102135203]\n"
     ]
    }
   ],
   "source": [
    "i = 10\n",
    "score_list = []\n",
    "while i < 200:\n",
    "    model = RandomForestRegressor(n_estimators = i)\n",
    "    model.fit(x_train, y_train)\n",
    "    ypred = model.predict(x_test)\n",
    "    score=model.score(x_test,y_test)\n",
    "    score_list.append(score)\n",
    "    i = i+10\n",
    "    print(i)\n",
    "print(score_list)"
   ]
  },
  {
   "cell_type": "code",
   "execution_count": 151,
   "metadata": {},
   "outputs": [
    {
     "name": "stdout",
     "output_type": "stream",
     "text": [
      "[  10.   20.   30.   40.   50.   60.   70.   80.   90.  100.  110.  120.\n",
      "  130.  140.  150.  160.  170.  180.  190.]\n"
     ]
    },
    {
     "data": {
      "text/plain": [
       "<matplotlib.axes._subplots.AxesSubplot at 0x16c80acf240>"
      ]
     },
     "execution_count": 151,
     "metadata": {},
     "output_type": "execute_result"
    },
    {
     "data": {
      "image/png": "[encoded data removed]",
      "text/plain": [
       "<matplotlib.figure.Figure at 0x16c80acf438>"
      ]
     },
     "metadata": {},
     "output_type": "display_data"
    }
   ],
   "source": [
    "x_list = np.linspace(10,190,19)\n",
    "print(x_list)\n",
    "sns.lineplot(x_list,score_list)"
   ]
  },
  {
   "cell_type": "markdown",
   "metadata": {},
   "source": [
    "# plot the top 5 important features "
   ]
  },
  {
   "cell_type": "code",
   "execution_count": 155,
   "metadata": {},
   "outputs": [
    {
     "name": "stdout",
     "output_type": "stream",
     "text": [
      "0\n",
      "1\n",
      "2\n",
      "3\n",
      "4\n"
     ]
    },
    {
     "data": {
      "image/png": "[encoded data removed]",
      "text/plain": [
       "<matplotlib.figure.Figure at 0x16c80b1a2b0>"
      ]
     },
     "metadata": {},
     "output_type": "display_data"
    }
   ],
   "source": [
    "import matplotlib.pyplot as plt\n",
    "%matplotlib inline\n",
    "import seaborn as sns\n",
    "\n",
    "\n",
    "i= 0 \n",
    "x_values  = []\n",
    "y_values = []\n",
    "while i < 5:\n",
    "    x= feature_importances[0:5][i][0]\n",
    "    print(i)\n",
    "    x_values.append(x)\n",
    "    \n",
    "    y= feature_importances[0:5][i][1]\n",
    "    y_values.append(y)\n",
    "    i = i + 1\n",
    "sns.barplot(y_values, x_values)\n",
    "            \n",
    "            \n",
    "plt.xlabel('Importance'); \n",
    "plt.ylabel('Variable'); \n",
    "plt.title('Variable Importances'); "
   ]
  },
  {
   "cell_type": "markdown",
   "metadata": {},
   "source": [
    "# extract a branch for plotting"
   ]
  },
  {
   "cell_type": "code",
   "execution_count": 68,
   "metadata": {},
   "outputs": [],
   "source": [
    "\n",
    "from sklearn.tree import export_graphviz\n",
    " \n",
    "tree = model.estimators_[1]\n",
    "\n",
    " \n",
    "export_graphviz(tree, out_file =\n",
    " \n",
    "'C:/Users/melvi/Desktop/Capstone/tree2.dot', feature_names = X.columns)\n",
    " \n",
    "import graphviz\n",
    "\n",
    "with open('C:/Users/melvi/Desktop/Capstone/tree2.dot') as f:\n",
    "    dot_graph = f.read()\n",
    "dot=graphviz.Source(dot_graph)\n",
    "dot.view()\n",
    " \n"
   ]
  },
  {
   "cell_type": "markdown",
   "metadata": {},
   "source": [
    "# put all dataset into the model forthe best performance"
   ]
  },
  {
   "cell_type": "code",
   "execution_count": 161,
   "metadata": {},
   "outputs": [
    {
     "name": "stdout",
     "output_type": "stream",
     "text": [
      "0.990637647536\n"
     ]
    }
   ],
   "source": [
    "model = RandomForestRegressor(n_estimators = 180)\n",
    "model.fit(X, Y)\n",
    "score=model.score(X,Y)\n",
    "print(score)"
   ]
  }
 ],
 "metadata": {
  "kernelspec": {
   "display_name": "Python 3",
   "language": "python",
   "name": "python3"
  },
  "language_info": {
   "codemirror_mode": {
    "name": "ipython",
    "version": 3
   },
   "file_extension": ".py",
   "mimetype": "text/x-python",
   "name": "python",
   "nbconvert_exporter": "python",
   "pygments_lexer": "ipython3",
   "version": "3.6.3"
  }
 },
 "nbformat": 4,
 "nbformat_minor": 2
}
